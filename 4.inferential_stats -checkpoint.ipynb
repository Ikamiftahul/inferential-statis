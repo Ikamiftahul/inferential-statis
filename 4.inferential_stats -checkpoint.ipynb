{
 "cells": [
  {
   "cell_type": "markdown",
   "id": "cc9f3eb4-8eda-4721-a112-d81255700758",
   "metadata": {},
   "source": [
    "## Inferential Statistic"
   ]
  },
  {
   "cell_type": "markdown",
   "id": "fce058fd-8416-4ac9-b121-497b268b38cf",
   "metadata": {},
   "source": [
    "mengambil kesimpulan dari sebuah sampel untuk diintepretasikan di populasi"
   ]
  },
  {
   "cell_type": "code",
   "execution_count": 1,
   "id": "e9877d5a-f762-4de4-bf71-a8516558b91d",
   "metadata": {
    "tags": []
   },
   "outputs": [],
   "source": [
    "# Importing all basic libraries\n",
    "import pandas as pd\n",
    "import numpy as np\n",
    "import matplotlib.pyplot as plt\n",
    "import seaborn as sns\n",
    "import scipy.stats as stats\n",
    "import math"
   ]
  },
  {
   "cell_type": "code",
   "execution_count": 2,
   "id": "b6130504-7563-4624-aad7-68d00f734252",
   "metadata": {
    "tags": []
   },
   "outputs": [],
   "source": [
    "# reading the data\n",
    "df = pd.read_csv('data/train.csv.xls')"
   ]
  },
  {
   "cell_type": "code",
   "execution_count": 3,
   "id": "82dc4c1e-aa66-45c3-9b3b-74c4980461d5",
   "metadata": {
    "tags": []
   },
   "outputs": [
    {
     "data": {
      "text/plain": [
       "(1460, 81)"
      ]
     },
     "execution_count": 3,
     "metadata": {},
     "output_type": "execute_result"
    }
   ],
   "source": [
    "# check the shape of dataset\n",
    "df.shape"
   ]
  },
  {
   "cell_type": "code",
   "execution_count": 4,
   "id": "01b49679-f60e-4177-91c2-cec4cfe8c231",
   "metadata": {
    "tags": []
   },
   "outputs": [
    {
     "name": "stdout",
     "output_type": "stream",
     "text": [
      "<class 'pandas.core.frame.DataFrame'>\n",
      "RangeIndex: 1460 entries, 0 to 1459\n",
      "Data columns (total 81 columns):\n",
      " #   Column         Non-Null Count  Dtype  \n",
      "---  ------         --------------  -----  \n",
      " 0   Id             1460 non-null   int64  \n",
      " 1   MSSubClass     1460 non-null   int64  \n",
      " 2   MSZoning       1460 non-null   object \n",
      " 3   LotFrontage    1201 non-null   float64\n",
      " 4   LotArea        1460 non-null   int64  \n",
      " 5   Street         1460 non-null   object \n",
      " 6   Alley          91 non-null     object \n",
      " 7   LotShape       1460 non-null   object \n",
      " 8   LandContour    1460 non-null   object \n",
      " 9   Utilities      1460 non-null   object \n",
      " 10  LotConfig      1460 non-null   object \n",
      " 11  LandSlope      1460 non-null   object \n",
      " 12  Neighborhood   1460 non-null   object \n",
      " 13  Condition1     1460 non-null   object \n",
      " 14  Condition2     1460 non-null   object \n",
      " 15  BldgType       1460 non-null   object \n",
      " 16  HouseStyle     1460 non-null   object \n",
      " 17  OverallQual    1460 non-null   int64  \n",
      " 18  OverallCond    1460 non-null   int64  \n",
      " 19  YearBuilt      1460 non-null   int64  \n",
      " 20  YearRemodAdd   1460 non-null   int64  \n",
      " 21  RoofStyle      1460 non-null   object \n",
      " 22  RoofMatl       1460 non-null   object \n",
      " 23  Exterior1st    1460 non-null   object \n",
      " 24  Exterior2nd    1460 non-null   object \n",
      " 25  MasVnrType     1452 non-null   object \n",
      " 26  MasVnrArea     1452 non-null   float64\n",
      " 27  ExterQual      1460 non-null   object \n",
      " 28  ExterCond      1460 non-null   object \n",
      " 29  Foundation     1460 non-null   object \n",
      " 30  BsmtQual       1423 non-null   object \n",
      " 31  BsmtCond       1423 non-null   object \n",
      " 32  BsmtExposure   1422 non-null   object \n",
      " 33  BsmtFinType1   1423 non-null   object \n",
      " 34  BsmtFinSF1     1460 non-null   int64  \n",
      " 35  BsmtFinType2   1422 non-null   object \n",
      " 36  BsmtFinSF2     1460 non-null   int64  \n",
      " 37  BsmtUnfSF      1460 non-null   int64  \n",
      " 38  TotalBsmtSF    1460 non-null   int64  \n",
      " 39  Heating        1460 non-null   object \n",
      " 40  HeatingQC      1460 non-null   object \n",
      " 41  CentralAir     1460 non-null   object \n",
      " 42  Electrical     1459 non-null   object \n",
      " 43  1stFlrSF       1460 non-null   int64  \n",
      " 44  2ndFlrSF       1460 non-null   int64  \n",
      " 45  LowQualFinSF   1460 non-null   int64  \n",
      " 46  GrLivArea      1460 non-null   int64  \n",
      " 47  BsmtFullBath   1460 non-null   int64  \n",
      " 48  BsmtHalfBath   1460 non-null   int64  \n",
      " 49  FullBath       1460 non-null   int64  \n",
      " 50  HalfBath       1460 non-null   int64  \n",
      " 51  BedroomAbvGr   1460 non-null   int64  \n",
      " 52  KitchenAbvGr   1460 non-null   int64  \n",
      " 53  KitchenQual    1460 non-null   object \n",
      " 54  TotRmsAbvGrd   1460 non-null   int64  \n",
      " 55  Functional     1460 non-null   object \n",
      " 56  Fireplaces     1460 non-null   int64  \n",
      " 57  FireplaceQu    770 non-null    object \n",
      " 58  GarageType     1379 non-null   object \n",
      " 59  GarageYrBlt    1379 non-null   float64\n",
      " 60  GarageFinish   1379 non-null   object \n",
      " 61  GarageCars     1460 non-null   int64  \n",
      " 62  GarageArea     1460 non-null   int64  \n",
      " 63  GarageQual     1379 non-null   object \n",
      " 64  GarageCond     1379 non-null   object \n",
      " 65  PavedDrive     1460 non-null   object \n",
      " 66  WoodDeckSF     1460 non-null   int64  \n",
      " 67  OpenPorchSF    1460 non-null   int64  \n",
      " 68  EnclosedPorch  1460 non-null   int64  \n",
      " 69  3SsnPorch      1460 non-null   int64  \n",
      " 70  ScreenPorch    1460 non-null   int64  \n",
      " 71  PoolArea       1460 non-null   int64  \n",
      " 72  PoolQC         7 non-null      object \n",
      " 73  Fence          281 non-null    object \n",
      " 74  MiscFeature    54 non-null     object \n",
      " 75  MiscVal        1460 non-null   int64  \n",
      " 76  MoSold         1460 non-null   int64  \n",
      " 77  YrSold         1460 non-null   int64  \n",
      " 78  SaleType       1460 non-null   object \n",
      " 79  SaleCondition  1460 non-null   object \n",
      " 80  SalePrice      1460 non-null   int64  \n",
      "dtypes: float64(3), int64(35), object(43)\n",
      "memory usage: 924.0+ KB\n"
     ]
    }
   ],
   "source": [
    "#check data\n",
    "df.info()"
   ]
  },
  {
   "cell_type": "markdown",
   "id": "907e450f-50ab-4f4d-a33b-c3e003d3f9f2",
   "metadata": {},
   "source": [
    "**lets check out aour probability of picking a hous in the neightbourhoud - \" Old town\"**"
   ]
  },
  {
   "cell_type": "code",
   "execution_count": 5,
   "id": "2354585c-300f-4fc1-ad63-42e889ffa9a0",
   "metadata": {
    "tags": []
   },
   "outputs": [
    {
     "data": {
      "text/plain": [
       "NAmes      225\n",
       "CollgCr    150\n",
       "OldTown    113\n",
       "Edwards    100\n",
       "Somerst     86\n",
       "Gilbert     79\n",
       "NridgHt     77\n",
       "Sawyer      74\n",
       "NWAmes      73\n",
       "SawyerW     59\n",
       "BrkSide     58\n",
       "Crawfor     51\n",
       "Mitchel     49\n",
       "NoRidge     41\n",
       "Timber      38\n",
       "IDOTRR      37\n",
       "ClearCr     28\n",
       "StoneBr     25\n",
       "SWISU       25\n",
       "MeadowV     17\n",
       "Blmngtn     17\n",
       "BrDale      16\n",
       "Veenker     11\n",
       "NPkVill      9\n",
       "Blueste      2\n",
       "Name: Neighborhood, dtype: int64"
      ]
     },
     "execution_count": 5,
     "metadata": {},
     "output_type": "execute_result"
    }
   ],
   "source": [
    "# check the different neightborhood\n",
    "df['Neighborhood'].value_counts()"
   ]
  },
  {
   "cell_type": "code",
   "execution_count": 6,
   "id": "7d49430a-c194-4a16-b1e1-3f878b705943",
   "metadata": {
    "tags": []
   },
   "outputs": [
    {
     "name": "stdout",
     "output_type": "stream",
     "text": [
      "total number of houses in the neighborhood : 1460\n"
     ]
    }
   ],
   "source": [
    "# total number of houses in the neighborhood\n",
    "all_houses = len(df)\n",
    "print(\"total number of houses in the neighborhood :\", all_houses)"
   ]
  },
  {
   "cell_type": "code",
   "execution_count": 7,
   "id": "ab54c4b4-a0de-4575-a00a-d3607f8179cb",
   "metadata": {
    "tags": []
   },
   "outputs": [
    {
     "name": "stdout",
     "output_type": "stream",
     "text": [
      "total number of houses in the OldTown : 113\n"
     ]
    }
   ],
   "source": [
    "# total number of houses in the neighborhood in the Old Town neighborhood\n",
    "houses_in_OldTown = len(df[df['Neighborhood'] == 'OldTown'])\n",
    "print(\"total number of houses in the OldTown :\", houses_in_OldTown)"
   ]
  },
  {
   "cell_type": "code",
   "execution_count": 8,
   "id": "b39369ad-a204-494c-a085-4000d80846ed",
   "metadata": {
    "tags": []
   },
   "outputs": [
    {
     "name": "stdout",
     "output_type": "stream",
     "text": [
      "probability of picking a houses in OldTown ;7.74%\n"
     ]
    }
   ],
   "source": [
    "# lets find the probability of picking a house in the old town\n",
    "probability = (houses_in_OldTown/all_houses)*100\n",
    "print('probability of picking a houses in OldTown ;{0:.2f}'.format(probability)+'%')"
   ]
  },
  {
   "cell_type": "markdown",
   "id": "aae157e5-cb8f-44d1-b4a1-ce8c468a0713",
   "metadata": {},
   "source": [
    "**probalitas pengambilan kembali dari suatu kejadian**"
   ]
  },
  {
   "cell_type": "code",
   "execution_count": 9,
   "id": "70f2c7a0-c8e1-490d-8714-e93391361a5b",
   "metadata": {
    "tags": []
   },
   "outputs": [
    {
     "name": "stdout",
     "output_type": "stream",
     "text": [
      "the probability of picking a house in old town and again picking a house from the same neighboorhood is 0.594139352\n"
     ]
    }
   ],
   "source": [
    "second_prob= (houses_in_OldTown/all_houses)*((houses_in_OldTown - 1)/(all_houses-1))\n",
    "print('the probability of picking a house in old town and again picking a house from the same neighboorhood is {0:.9f}'.format(second_prob*100))"
   ]
  },
  {
   "cell_type": "markdown",
   "id": "c7f770c1-ae30-4fdb-85ef-bb083bc06198",
   "metadata": {},
   "source": [
    "## Z-score\n",
    "- The number of standard deviations from the mean is also called the \"Standard Score\", \"sigma\", or \"z-score.\" "
   ]
  },
  {
   "cell_type": "markdown",
   "id": "27ea421f-04e1-418c-b522-029c8f91c583",
   "metadata": {},
   "source": [
    "## Inference"
   ]
  },
  {
   "cell_type": "markdown",
   "id": "54def13e-018b-4cad-b073-9fd045e3e85c",
   "metadata": {},
   "source": [
    "## Sample Mean and population Mean\n",
    "- Let's consider a sample of 500 houses at random from 1460 houses and plot it's mean\n",
    "- But the mean of these houses can be near or pretty far away from the mean of the 1460 houses calculated earlier"
   ]
  },
  {
   "cell_type": "code",
   "execution_count": 10,
   "id": "ff5b72c9-f495-4f37-a373-abe51c13f457",
   "metadata": {},
   "outputs": [
    {
     "name": "stdout",
     "output_type": "stream",
     "text": [
      "Sample mean: 180098.748\n",
      "Sample median: 160750.0\n",
      "Sample std: 76917.46070886959\n",
      "Population mean: 180921.19589041095\n",
      "Population median: 163000.0\n",
      "Population std: 79442.50288288663\n"
     ]
    }
   ],
   "source": [
    "# lets take seed so that everytime the random values come out to be constant\n",
    "np.random.seed(100)\n",
    "\n",
    "# lets take 500 sample values from the dataset of 1460 values\n",
    "sample_ages = np.random.choice(a= df['SalePrice'], size=500)\n",
    "\n",
    "# getting the sample mean\n",
    "print(\"Sample mean:\", sample_ages.mean() )\n",
    "print(\"Sample median:\", np.median(sample_ages))\n",
    "print(\"Sample std:\", np.std(sample_ages))\n",
    "\n",
    "# getting the population mean\n",
    "print(\"Population mean:\", df['SalePrice'].mean())\n",
    "print(\"Population median:\", df['SalePrice'].median())\n",
    "print(\"Population std:\", df['SalePrice'].std())"
   ]
  },
  {
   "cell_type": "markdown",
   "id": "1c4d9a82-5b3d-42d6-aa66-82bc59ced384",
   "metadata": {},
   "source": [
    "> From above information we can infer that the sample mean, median and std are not far from the population, hence"
   ]
  },
  {
   "cell_type": "code",
   "execution_count": 11,
   "id": "5199c32c-4f8d-4bdd-87e0-f336542ef108",
   "metadata": {},
   "outputs": [
    {
     "name": "stderr",
     "output_type": "stream",
     "text": [
      "C:\\Users\\LENOVO\\AppData\\Local\\Temp\\ipykernel_15800\\3309715773.py:1: UserWarning: \n",
      "\n",
      "`distplot` is a deprecated function and will be removed in seaborn v0.14.0.\n",
      "\n",
      "Please adapt your code to use either `displot` (a figure-level function with\n",
      "similar flexibility) or `histplot` (an axes-level function for histograms).\n",
      "\n",
      "For a guide to updating your code to use the new functions, please see\n",
      "https://gist.github.com/mwaskom/de44147ed2974457ad6372750bbe5751\n",
      "\n",
      "  sns.distplot(sample_ages)\n"
     ]
    },
    {
     "data": {
      "text/plain": [
       "<Axes: ylabel='Density'>"
      ]
     },
     "execution_count": 11,
     "metadata": {},
     "output_type": "execute_result"
    },
    {
     "data": {
      "image/png": "[encoded data removed]",
      "text/plain": [
       "<Figure size 640x480 with 1 Axes>"
      ]
     },
     "metadata": {},
     "output_type": "display_data"
    }
   ],
   "source": [
    "sns.distplot(sample_ages)"
   ]
  },
  {
   "cell_type": "code",
   "execution_count": 12,
   "id": "98627d29-620f-4d9d-a934-9796d20bd81c",
   "metadata": {},
   "outputs": [
    {
     "ename": "SyntaxError",
     "evalue": "invalid syntax (765137885.py, line 1)",
     "output_type": "error",
     "traceback": [
      "\u001b[1;36m  Cell \u001b[1;32mIn[12], line 1\u001b[1;36m\u001b[0m\n\u001b[1;33m    <Axes: ylabel='Density'>\u001b[0m\n\u001b[1;37m    ^\u001b[0m\n\u001b[1;31mSyntaxError\u001b[0m\u001b[1;31m:\u001b[0m invalid syntax\n"
     ]
    }
   ],
   "source": [
    "<Axes: ylabel='Density'>"
   ]
  },
  {
   "cell_type": "markdown",
   "id": "e88d2f08-8e85-4f96-b19d-77016665efd6",
   "metadata": {},
   "source": [
    "**Confidence Interval (CI)** is a type of estimate computed from the statistics of the observed data. This proposes a range of plausible values for an unknown parameter (for example, the mean). The interval has an associated confidence level that the true parameter is in the proposed range.\n",
    "\n",
    "The 95% confidence interval defines a range of values that you can be 95% certain contains the population mean. With large samples, you know that mean with much more precision than you do with a small sample, so the confidence interval is quite narrow when computed from a large sample."
   ]
  },
  {
   "cell_type": "code",
   "execution_count": null,
   "id": "8f98b26e-3b3d-4cc0-ace8-dfc5e200e2e6",
   "metadata": {},
   "outputs": [],
   "source": [
    "# lets import the scipy package\n",
    "import scipy.stats as stats\n",
    "import math\n",
    "\n",
    "# lets seed the random values\n",
    "np.random.seed(10)\n",
    "\n",
    "# lets take a sample size\n",
    "sample_size = 1000\n",
    "sample = np.random.choice(a= df['SalePrice'], size = sample_size)\n",
    "sample_mean = sample.mean()"
   ]
  },
  {
   "cell_type": "code",
   "execution_count": null,
   "id": "50147dc6-f3e0-4a55-a072-fe7fd5d5b681",
   "metadata": {},
   "outputs": [],
   "source": [
    "# get the z-critical value*\n",
    "z_critical = stats.norm.ppf(q = 0.95)\n",
    "\n",
    "# check the z-critical value\n",
    "print(\"z-critical value: \", z_critical)"
   ]
  },
  {
   "cell_type": "code",
   "execution_count": null,
   "id": "9fa9029a-b5ab-48c0-a188-23f69b9c41e1",
   "metadata": {},
   "outputs": [],
   "source": [
    "# get the population standard deviation\n",
    "pop_stdev = df['SalePrice'].std()\n",
    "\n",
    "# checking the margin of error\n",
    "margin_of_error = z_critical * (pop_stdev/math.sqrt(sample_size))\n",
    "\n",
    "# defining our confidence interval\n",
    "confidence_interval = (sample_mean - margin_of_error,\n",
    "                      sample_mean + margin_of_error)"
   ]
  },
  {
   "cell_type": "code",
   "execution_count": null,
   "id": "3fe47802-559c-41ad-9713-cd66b0b5dc56",
   "metadata": {},
   "outputs": [],
   "source": [
    "pop_stdev, margin_of_error"
   ]
  },
  {
   "cell_type": "code",
   "execution_count": null,
   "id": "06045922-8200-4d82-9ed4-bc8b03408b06",
   "metadata": {},
   "outputs": [],
   "source": [
    "# lets print the result\n",
    "print(\"Confidence interval:\", end=\" \")\n",
    "print(confidence_interval)\n",
    "print(\"True mean: {}\".format(df['SalePrice'].mean()))"
   ]
  },
  {
   "cell_type": "markdown",
   "id": "b2d2c434-65a5-42e4-bf47-b9976b1201b0",
   "metadata": {},
   "source": [
    "![](https://analystprep.com/cfa-level-1-exam/wp-content/uploads/2019/10/page-159.jpg)"
   ]
  },
  {
   "cell_type": "markdown",
   "id": "a2c580b3-23a3-46c2-9c49-84191626dc72",
   "metadata": {},
   "source": [
    "### Hypothesis Testing"
   ]
  },
  {
   "cell_type": "markdown",
   "id": "16aa9f87-cd66-40f2-894e-0a7128d05d01",
   "metadata": {},
   "source": [
    "- Statistical Hypothesis, sometimes called confirmatory data analysis, is a hypothesis that is testable on the basis of observing a process that is modeled via a set of random variables. A statistical hypothesis test is a method of statistical inference."
   ]
  },
  {
   "cell_type": "markdown",
   "id": "403c9043-44b8-4d32-9722-91bfc133a2ce",
   "metadata": {},
   "source": [
    "### Null Hypothesis"
   ]
  },
  {
   "cell_type": "markdown",
   "id": "13acf43c-ee35-45e6-b241-e49aaa665b72",
   "metadata": {},
   "source": [
    "- in inferential Statistics, **The Null Hypothesis is a general statement or default position that there is no relationship between two measured phenomena or no association among groups**.\n",
    "- Statistical hypothesis tests are based on a statement called the null hypothesis that assumes nothing interesting is going on between whatever variables you are testing.\n",
    "- Therefore, in our case the Null Hypothesis would be: **The Mean of House Prices in OldTown is not different from the houses of other neighborhoods**."
   ]
  },
  {
   "cell_type": "markdown",
   "id": "ee442cb4-1a86-47d6-9fad-2f16cef5e24f",
   "metadata": {},
   "source": [
    "### Alternate Hypothesis"
   ]
  },
  {
   "cell_type": "markdown",
   "id": "71a036db-d84e-46a0-9161-b571110b8e86",
   "metadata": {},
   "source": [
    "- The alternate hypothesis is just an alternative to the null. For example, if you null is **I'm going to win up to 1000** then your alternate is **I'm going to win more than 1000**. Basically, you're looking at whether there's enough change (with the alternate hypothesis) to be able to reject the null hypothesis."
   ]
  },
  {
   "cell_type": "markdown",
   "id": "2c6781c0-9dec-4905-bbd1-446ffd6f4215",
   "metadata": {},
   "source": [
    "### The Null Hypothesis is assumed to be true and Statistical evidence is required to reject it in favor of an Alternative Hypothesis"
   ]
  },
  {
   "cell_type": "markdown",
   "id": "ba85086f-c4c0-4313-a1e7-7aa6763894bc",
   "metadata": {},
   "source": [
    "1. Once you have the null and alternative hypothesis in hand, you choose a significance level (often denoted by the Greek letter 'α'). The significance level is a probability thereshold that determines when you reject the null hypothesis.\n",
    "\n",
    "2. After carrying out a test, if the probability of getting a result as extreme as the one you observe due to chance is lower than the significance level, you reject the null hypothesis in favor of the alternative.\n",
    "\n",
    "3. This popbability of seeing a result as extreme or more extreme than the one observed is known as the p-value"
   ]
  },
  {
   "cell_type": "markdown",
   "id": "a4922515-5f04-47fc-af8c-2d20d0d14a2d",
   "metadata": {},
   "source": [
    "### P Value"
   ]
  },
  {
   "cell_type": "markdown",
   "id": "41be6d94-b788-439c-9fa9-3e34ad039211",
   "metadata": {},
   "source": [
    "- In statistical hypothesis testing, **the p-value or probability value** is the probability of obtaining test result at least as exreme as the reults actually observed during the test, assuming that the null hypothesis is correct.\n",
    "\n",
    "- So now say that we have put a significance (α) = 0.05\n",
    "\n",
    "- This means that if we see a p-value of lesser than 0.05, we reject out Null and accept the Alternative to be true"
   ]
  },
  {
   "cell_type": "markdown",
   "id": "1cfa171d-eca8-43e1-9456-3baa2aee3b5d",
   "metadata": {},
   "source": [
    "#### Hypothesis: Are house prices in OldTown really different frm the House Price of Other Neighborhoods?"
   ]
  },
  {
   "cell_type": "code",
   "execution_count": 13,
   "id": "b56cabe4-873c-4d8b-976f-501965686a49",
   "metadata": {},
   "outputs": [],
   "source": [
    "# lets import z test from statsmodels\n",
    "from statsmodels.stats.weightstats import ztest"
   ]
  },
  {
   "cell_type": "code",
   "execution_count": 15,
   "id": "128a8062-b31e-4b09-8397-da809396acd7",
   "metadata": {},
   "outputs": [],
   "source": [
    "# getting z-stats, p-value\n",
    "\n",
    "old_town_sale_price = df[df['Neighborhood'] == 'OldTown']['SalePrice']\n",
    "mean_values = df['SalePrice'].mean()\n",
    "z_statistic, p_value = ztest(x1 = old_town_sale_price,\n",
    "                            value = mean_values)"
   ]
  },
  {
   "cell_type": "code",
   "execution_count": 20,
   "id": "20c5196f-5d89-4c2e-9bcc-875da804c840",
   "metadata": {},
   "outputs": [
    {
     "name": "stdout",
     "output_type": "stream",
     "text": [
      "Z-statistic is :-10.639294263334575\n",
      "p-value is :1.9560526026260018e-26\n"
     ]
    }
   ],
   "source": [
    "# lets print the Results\n",
    "print('Z-statistic is :{}'.format(z_statistic))\n",
    "print('p-value is :{}'.format(p_value))"
   ]
  },
  {
   "cell_type": "code",
   "execution_count": 21,
   "id": "ea6c7899-8538-4359-96b2-d45731388ff9",
   "metadata": {},
   "outputs": [
    {
     "name": "stdout",
     "output_type": "stream",
     "text": [
      "Ho Rejected\n"
     ]
    }
   ],
   "source": [
    "# hypothesis result\n",
    "if p_value < 0.05:\n",
    "    print(\"Ho Rejected\")\n",
    "else :\n",
    "    print(\"Ho Accepted\")"
   ]
  },
  {
   "cell_type": "markdown",
   "id": "a990b902-e410-43a9-b0e0-43b47b7e681f",
   "metadata": {},
   "source": [
    "- If the P value if less than 0.05, then we can reject our null hypothesis againts the alternate hypothesis.\n",
    "\n",
    "- **The probability of getting the given distribution of houseprices in OldTown under the assumption that its mean, is the same as the mean of all house prices.**"
   ]
  },
  {
   "cell_type": "markdown",
   "id": "93abadb0-f503-408b-a464-5260cd435867",
   "metadata": {},
   "source": [
    "### Another way to tes: Gosset's (Student's) t-test"
   ]
  },
  {
   "cell_type": "markdown",
   "id": "1120fdbc-602d-4f4c-be49-99d88d15de8d",
   "metadata": {},
   "source": [
    "- The T-test is a statistical test used to determine whether a numeric data sample differs significantly from the population or whether two samples differ frm one another.\n",
    "- A z-test assumes a sample size >30 to work, but what if our sample is less than 30?\n",
    "- A t-test solves this problem and gives us a way to do a hypothesis test on a smaller sample.\n",
    "- Now. let's also see if house prices in Stone Brook neighborhood are different from the houses in the rest of the neighborhood"
   ]
  },
  {
   "cell_type": "markdown",
   "id": "903c6484-c08f-41b3-bd0d-1414c9661699",
   "metadata": {},
   "source": [
    "### Now. let's also see if house prices in Stone Brook neighborhood are different from the houses in the rest of the neighborhood"
   ]
  },
  {
   "cell_type": "code",
   "execution_count": 22,
   "id": "96b879d3-5fa9-43f5-99c3-88a56ee63a7e",
   "metadata": {},
   "outputs": [
    {
     "name": "stdout",
     "output_type": "stream",
     "text": [
      "No of houses in Stone Brook: 25\n"
     ]
    }
   ],
   "source": [
    "print('No of houses in Stone Brook: {}'\\\n",
    "     .format(df['Neighborhood'].value_counts()['StoneBr']))"
   ]
  },
  {
   "cell_type": "code",
   "execution_count": 26,
   "id": "d2c73478-5fdc-4603-b1f6-d82d9d1bb4f0",
   "metadata": {},
   "outputs": [],
   "source": [
    "# getting stat values and pvalues\n",
    "stats, p_val = stats.ttest_1samp(a = df[df['Neighborhood'] == 'StoneBr']['SalePrice'], # sample\n",
    "                                popmean = df['SalePrice'].mean()) # pop mean"
   ]
  },
  {
   "cell_type": "code",
   "execution_count": 28,
   "id": "7047641a-5607-4f79-8b82-e279dfa6b839",
   "metadata": {},
   "outputs": [
    {
     "name": "stdout",
     "output_type": "stream",
     "text": [
      "t_tast: 5.735070151700397 p_val: 6.558704101036394e-06\n"
     ]
    }
   ],
   "source": [
    "# print stat val and p val\n",
    "print(\"t_tast:\", stats, \"p_val:\", p_val)"
   ]
  },
  {
   "cell_type": "code",
   "execution_count": 30,
   "id": "948cc82e-fe28-4a6e-9777-e934d8f7a27e",
   "metadata": {},
   "outputs": [
    {
     "name": "stdout",
     "output_type": "stream",
     "text": [
      "Ho Rejected\n"
     ]
    }
   ],
   "source": [
    "# hypothesis result\n",
    "if p_value < 0.05:\n",
    "    print(\"Ho Rejected\")\n",
    "else :\n",
    "    print(\"Ho Accepted\")"
   ]
  },
  {
   "cell_type": "markdown",
   "id": "9938cad3-1255-4aef-a023-2eddc981a56b",
   "metadata": {},
   "source": [
    "### Chi-Squared Goodness of fit Test"
   ]
  },
  {
   "cell_type": "markdown",
   "id": "de7657fd-770d-4f4a-9a2e-532ac4568c94",
   "metadata": {},
   "source": [
    "The term \"chi-squadred test,\" also written as X^2 test, refers to certain types if statistical hypothesis tests that are valid to perform when the test statistic is chi-squared distributed under the null hypothesis. Often, however, term is used to refer to Pearson's chi-squared test and variants thereof."
   ]
  },
  {
   "cell_type": "markdown",
   "id": "c5749c9e-f795-4a52-8027-cb42e10f667b",
   "metadata": {},
   "source": [
    "**A chi squared goodness of fit tests whether the distribution of sample categorical data matches an expected distribution**"
   ]
  },
  {
   "cell_type": "markdown",
   "id": "915996e7-755a-4fcf-9f81-c07cf568e7fb",
   "metadata": {},
   "source": [
    "for example,"
   ]
  },
  {
   "cell_type": "markdown",
   "id": "9c339bdf-49dc-4841-ba17-44d2166948be",
   "metadata": {},
   "source": [
    "- you could use to chi-squared goodness-of-fit test to check whether the race demographics of members at you church or school match that of the entire population of your county.\n",
    "- you could check whether the computer browser preferences of your friends match those of internet uses as a whole.\n",
    "- When working with categorical data the values the observations themselves aren't of mutch use for statistical testing beacuse categories like \"male\", \"female.\" and \"other\" have no mathematical meaning"
   ]
  },
  {
   "cell_type": "markdown",
   "id": "ef99d34f-b3b8-401d-9570-f54d05e8c3f5",
   "metadata": {},
   "source": [
    "#### lets generate some fake demographic data for U.S. and Minnesota and walk through the chi-squared goodness of fit test to check whether they are different:"
   ]
  },
  {
   "cell_type": "code",
   "execution_count": 31,
   "id": "7052c76c-ea0e-4ade-8319-03bfa23a4177",
   "metadata": {},
   "outputs": [],
   "source": [
    "# generate data\n",
    "national = pd.DataFrame([\"white\"] * 100000 + [\"hispanic\"] * 60000 +\\\n",
    "                       [\"black\"] * 50000 + [\"asian\"] * 15000 + [\"other\"] * 35000)\n",
    "\n",
    "minnesota = pd.DataFrame([\"white\"] * 600 + [\"hispanic\"] * 300 +\\\n",
    "                       [\"black\"] * 250 + [\"asian\"] * 75 + [\"other\"] * 150)"
   ]
  },
  {
   "cell_type": "code",
   "execution_count": 32,
   "id": "6aa71865-fd9f-4be7-b2cf-6a52ecf2e4e6",
   "metadata": {},
   "outputs": [],
   "source": [
    "# generate table\n",
    "national_table = pd.crosstab(index=national[0], columns=\"count\")\n",
    "minnesota_table = pd.crosstab(index=minnesota[0], columns=\"count\")"
   ]
  },
  {
   "cell_type": "code",
   "execution_count": 33,
   "id": "a2126fa9-4252-4d28-a135-271430df3b56",
   "metadata": {},
   "outputs": [
    {
     "name": "stdout",
     "output_type": "stream",
     "text": [
      "National\n",
      "col_0      count\n",
      "0               \n",
      "asian      15000\n",
      "black      50000\n",
      "hispanic   60000\n",
      "other      35000\n",
      "white     100000\n",
      " \n",
      "Minnesota\n",
      "col_0     count\n",
      "0              \n",
      "asian        75\n",
      "black       250\n",
      "hispanic    300\n",
      "other       150\n",
      "white       600\n"
     ]
    }
   ],
   "source": [
    "# print table\n",
    "print( \"National\")\n",
    "print(national_table)\n",
    "print(\" \")\n",
    "print( \"Minnesota\")\n",
    "print(minnesota_table)"
   ]
  },
  {
   "cell_type": "markdown",
   "id": "c206bd01-8163-44aa-b97a-6e08eab87d43",
   "metadata": {},
   "source": [
    "## Chi-square Formula"
   ]
  },
  {
   "cell_type": "markdown",
   "id": "ea15c22c-a116-432f-8fdb-7d7d79dfd7db",
   "metadata": {
    "tags": []
   },
   "source": [
    "![](https://useruploads.socratic.org/5IAt2rl2QzelSEz1SvJo_chi-square-equation2.jpg)\n",
    "\n",
    "So we calculate for each pair of observed and expected values then sum the all up\n",
    "\n",
    "- **Good Fit**: if the significance value that is p-value associated with chi-square statistics is 0.002, there is very strong evidence of rejecting the null hypothesis of no fit. it means good fit"
   ]
  },
  {
   "cell_type": "code",
   "execution_count": 39,
   "id": "505003a6-4cb1-437c-b31a-a888e23957f2",
   "metadata": {
    "tags": []
   },
   "outputs": [
    {
     "name": "stdout",
     "output_type": "stream",
     "text": [
      "chi-squared: 18.194805194805177\n"
     ]
    }
   ],
   "source": [
    "# calculate che square2\n",
    "observed = minnesota_table\n",
    "nation_ratios = national_table/len(national) # get the population ratios\n",
    "expected = nation_ratios * len(minnesota) # get expected count\n",
    "chi_square_stats = (((observed-expected)**2)/expected).sum()\n",
    "\n",
    "print('chi-squared:',chi_square_stats[0])"
   ]
  },
  {
   "cell_type": "markdown",
   "id": "0f6f8c48-a7aa-4fc0-8fe0-5cc954b16d7f",
   "metadata": {},
   "source": [
    "### Effect of LandContour on SalePrice"
   ]
  },
  {
   "cell_type": "markdown",
   "id": "5465aa96-2b3e-407f-8cc0-4e63a2293ad9",
   "metadata": {},
   "source": [
    "let's test if knowing LandContour which is the overall flatness of the property tells us anything about the price\n",
    "\n",
    "For this let's divide the SalePrice in three buckets - High, Medium, Low"
   ]
  },
  {
   "cell_type": "code",
   "execution_count": 40,
   "id": "d63e17a0-5246-49b4-98b0-c4d2c02253eb",
   "metadata": {
    "tags": []
   },
   "outputs": [],
   "source": [
    "# import scipy\n",
    "import scipy.stats as sp"
   ]
  },
  {
   "cell_type": "code",
   "execution_count": 41,
   "id": "8b2ef5b1-f40d-4abe-aebc-ec7d890991e4",
   "metadata": {},
   "outputs": [],
   "source": [
    "# function to compute chi2\n",
    "def compute_freq_chi2(x,y):\n",
    "    freqtab = pd.crosstab(x,y)\n",
    "    print(\"Frequency table\")\n",
    "    print(\"==========================\")\n",
    "    print(freqtab)\n",
    "    print(\"==========================\")\n",
    "    chi2, pval, dof, expected = sp.chi2_contingency(freqtab)\n",
    "    print(\"ChiSquare test statistic: \",chi2)\n",
    "    print(\"p-value: \",pval)"
   ]
  },
  {
   "cell_type": "code",
   "execution_count": 42,
   "id": "36513e97-4318-4df0-b300-edccb41bea24",
   "metadata": {},
   "outputs": [
    {
     "name": "stdout",
     "output_type": "stream",
     "text": [
      "Frequency table\n",
      "==========================\n",
      "SalePrice    High  Medium  Low\n",
      "LandContour                   \n",
      "Bnk            32      20   11\n",
      "HLS            10      12   28\n",
      "Low             8      11   17\n",
      "Lvl           437     447  427\n",
      "==========================\n",
      "ChiSquare test statistic:  26.252544346201447\n",
      "p-value:  0.00019976918050008285\n"
     ]
    }
   ],
   "source": [
    "price = pd.qcut(df['SalePrice'], 3, labels = ['High', 'Medium', 'Low'])\n",
    "compute_freq_chi2(df.LandContour, price)"
   ]
  },
  {
   "cell_type": "markdown",
   "id": "54db0520-0baf-49ab-87a5-89eea8b9a723",
   "metadata": {},
   "source": [
    "- The low p-value tells us that the two variables aren't independent and knowing the LandContour of a house does tells us something about its SalePrice"
   ]
  },
  {
   "cell_type": "markdown",
   "id": "25fcee73-cb2a-4610-a95f-713fa9c38ec1",
   "metadata": {
    "tags": []
   },
   "source": [
    "**The frequency distribution reflects this**"
   ]
  },
  {
   "cell_type": "markdown",
   "id": "2f46aca0-c7cf-4b7f-adaf-c3560bd13822",
   "metadata": {},
   "source": [
    "- Houses that are Near Flat/Level(lvl) have an equal distribution of SalePrice\n",
    "- On the other hand houses that are at a Hillside i.e., Significant slope from to side (HLS) have almost thrice as much houses with low price than high prices."
   ]
  },
  {
   "cell_type": "code",
   "execution_count": null,
   "id": "8631aeac-07f2-4a7f-b7bb-a2c3bf2a8f6a",
   "metadata": {
    "tags": []
   },
   "outputs": [],
   "source": [
    "# !pip install statsmodels\n",
    "# !pip install pylab"
   ]
  },
  {
   "cell_type": "code",
   "execution_count": 43,
   "id": "4ae3a7c7-eb7d-4bc2-8d19-8886f2619b23",
   "metadata": {
    "tags": []
   },
   "outputs": [],
   "source": [
    "# use qqplot\n",
    "import statsmodels.api as sm\n",
    "import pylab"
   ]
  },
  {
   "cell_type": "code",
   "execution_count": 44,
   "id": "e7d8c884-bb54-456d-ac8c-6b0540a37099",
   "metadata": {
    "tags": []
   },
   "outputs": [],
   "source": [
    "# create function to plot the quantile\n",
    "def create_qqplot(data,title):\n",
    "    sm.qqplot(data, line = '45')\n",
    "    plt.title(title)\n",
    "    pylab.show()"
   ]
  },
  {
   "cell_type": "code",
   "execution_count": 45,
   "id": "d857e200-6602-4611-8ac4-b1ef4f236d19",
   "metadata": {},
   "outputs": [
    {
     "data": {
      "image/png": "[encoded data removed]",
      "text/plain": [
       "<Figure size 640x480 with 1 Axes>"
      ]
     },
     "metadata": {},
     "output_type": "display_data"
    }
   ],
   "source": [
    "# create qq plot\n",
    "create_qqplot(df[\"SalePrice\"], 'SalePrice')"
   ]
  },
  {
   "cell_type": "code",
   "execution_count": 46,
   "id": "81a312f2-d7b6-4e88-b656-b88feefc1a35",
   "metadata": {
    "tags": []
   },
   "outputs": [],
   "source": [
    "# use the Normality Test\n",
    "from scipy.stats import shapiro, normaltest, anderson"
   ]
  },
  {
   "cell_type": "code",
   "execution_count": 47,
   "id": "deb10d6f-0a46-418e-9bff-4f192c6bb65e",
   "metadata": {},
   "outputs": [],
   "source": [
    "# function to test normality\n",
    "def try_normal(data):\n",
    "    result = {'Anderson' : {i:j for i,j in zip(anderson(data)[2], anderson(data)[1])},\n",
    "                'Shapiro': shapiro(data)[1],\n",
    "                'K^2': normaltest(data)[1]}\n",
    "    result['Anderson']['stat'] = anderson(data)[0]\n",
    "    return result"
   ]
  },
  {
   "cell_type": "code",
   "execution_count": 48,
   "id": "c4a6b3d3-5ec2-4b26-9e3b-708074566d13",
   "metadata": {},
   "outputs": [
    {
     "data": {
      "text/plain": [
       "{'Anderson': {15.0: 0.574,\n",
       "  10.0: 0.654,\n",
       "  5.0: 0.785,\n",
       "  2.5: 0.916,\n",
       "  1.0: 1.089,\n",
       "  'stat': 41.69199630641583},\n",
       " 'Shapiro': 3.2072044604461286e-33,\n",
       " 'K^2': 2.283848353787728e-133}"
      ]
     },
     "execution_count": 48,
     "metadata": {},
     "output_type": "execute_result"
    }
   ],
   "source": [
    "# check using anderson\n",
    "try_normal(df[\"SalePrice\"])"
   ]
  },
  {
   "cell_type": "markdown",
   "id": "8ad4c835-54d6-4b65-8d61-6bed3e7d1b7b",
   "metadata": {},
   "source": [
    "**Anderson is stat < critical value for accepting H0 (fail to reject H0) when data = is normal distributed (or the designed dist)**\n",
    "\n",
    "**Anderson is stat < critical value for rejecting H0 (Accept H1) when data =/= is normal distributed (or the designed dist)**\n"
   ]
  },
  {
   "cell_type": "code",
   "execution_count": null,
   "id": "8801b685-0986-450b-a60b-59b8dff15913",
   "metadata": {},
   "outputs": [],
   "source": []
  }
 ],
 "metadata": {
  "kernelspec": {
   "display_name": "Python 3 (ipykernel)",
   "language": "python",
   "name": "python3"
  },
  "language_info": {
   "codemirror_mode": {
    "name": "ipython",
    "version": 3
   },
   "file_extension": ".py",
   "mimetype": "text/x-python",
   "name": "python",
   "nbconvert_exporter": "python",
   "pygments_lexer": "ipython3",
   "version": "3.11.4"
  }
 },
 "nbformat": 4,
 "nbformat_minor": 5
}
